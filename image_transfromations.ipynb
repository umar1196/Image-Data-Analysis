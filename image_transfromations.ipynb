{
 "cells": [
  {
   "cell_type": "code",
   "execution_count": 1,
   "metadata": {},
   "outputs": [],
   "source": [
    "import os\n",
    "import re\n",
    "import cv2\n",
    "import numpy as np\n",
    "import matplotlib.pyplot as plt"
   ]
  },
  {
   "cell_type": "code",
   "execution_count": 2,
   "metadata": {},
   "outputs": [],
   "source": [
    "def scaling_without_crop(a, scaling_factor1, scaling_factor2):\n",
    "    #a = cv2.imread(path)\n",
    "    b = np.zeros((int(a.shape[0]*scaling_factor1), int(a.shape[1]*scaling_factor2), a.shape[2]))\n",
    "    for x in range(a.shape[0]-1):\n",
    "        for y in range(a.shape[1]-1):\n",
    "            newx = x*scaling_factor1\n",
    "            newy = y*scaling_factor2\n",
    "\n",
    "            if newx<b.shape[0] and newy<b.shape[1]:\n",
    "                b[round(newx),round(newy),:] = a[x, y,:]\n",
    "    \n",
    "    #applying interpolation\n",
    "    for x in range(b.shape[0]-1):\n",
    "        for y in range(b.shape[1]-1):\n",
    "            if b[x,y].any() == 0:\n",
    "                b[x,y,:] = (b[x+1,y]+b[x-1,y]+b[x,y+1]+b[x,y-1])/4\n",
    "    \n",
    "    cv2.imwrite('output_images/im_scaled'+'_'+str(scaling_factor1)+'x'+str(scaling_factor2)+'y'+'.jpg', b)  \n",
    "\n",
    "    return b          \n"
   ]
  },
  {
   "cell_type": "code",
   "execution_count": 3,
   "metadata": {},
   "outputs": [
    {
     "name": "stderr",
     "output_type": "stream",
     "text": [
      "libpng warning: iCCP: known incorrect sRGB profile\n"
     ]
    }
   ],
   "source": [
    "path = 'animals.png'\n",
    "im = cv2.imread(path)\n",
    "s_factor1 = 2\n",
    "s_factor2 = 1/2\n",
    "scaled_image = scaling_without_crop(im, s_factor1, s_factor2)"
   ]
  },
  {
   "cell_type": "code",
   "execution_count": 4,
   "metadata": {},
   "outputs": [],
   "source": [
    "#translation without crop\n",
    "def translation_without_crop(a, tx, ty):\n",
    "    #a = cv2.imread(path)\n",
    "    b = np.zeros((int(a.shape[0]+tx), int(a.shape[1]+ty), a.shape[2]))\n",
    "    for x in range(a.shape[0]-1):\n",
    "        for y in range(a.shape[1]-1):\n",
    "            newx = x+tx\n",
    "            newy = y+ty\n",
    "\n",
    "            if newx<b.shape[0] and newy<b.shape[1]:\n",
    "                b[round(newx),round(newy),:] = a[x, y,:]\n",
    "    \n",
    "    # #applying interpolation\n",
    "    # for x in range(b.shape[0]-1):\n",
    "    #     for y in range(b.shape[1]-1):\n",
    "    #         if b[x,y].any() == 0:\n",
    "    #             b[x,y,:] = (b[x+1,y]+b[x-1,y]+b[x,y+1]+b[x,y-1])/4\n",
    "    \n",
    "    cv2.imwrite('output_images/im_translated'+'_'+str(tx)+'x'+str(ty)+'y'+'.jpg', b)  \n",
    "\n",
    "    return b          \n"
   ]
  },
  {
   "cell_type": "code",
   "execution_count": 5,
   "metadata": {},
   "outputs": [
    {
     "name": "stderr",
     "output_type": "stream",
     "text": [
      "libpng warning: iCCP: known incorrect sRGB profile\n"
     ]
    }
   ],
   "source": [
    "path = 'animals.png'\n",
    "im = cv2.imread(path)\n",
    "tx = 10\n",
    "ty = 100\n",
    "\n",
    "translated_im = translation_without_crop(im, tx, ty)\n"
   ]
  },
  {
   "cell_type": "code",
   "execution_count": 6,
   "metadata": {},
   "outputs": [],
   "source": [
    "def rotation_without_croping(im, angle):\n",
    "    #im = cv2.imread(path)\n",
    "\n",
    "    theta = np.radians(angle)\n",
    "\n",
    "    X = round(abs(im.shape[0]*np.cos(theta))) +  round(abs(im.shape[1]*np.sin(theta)))\n",
    "    Y = round(abs(im.shape[1]*np.cos(theta))) +  round(abs(im.shape[0]*np.sin(theta)))\n",
    "\n",
    "    new_img = (np.zeros((X,Y,im.shape[2])))\n",
    "\n",
    "    cx = im.shape[1]//2 \n",
    "    cy = im.shape[0]//2\n",
    "\n",
    "    new_cx = Y//2\n",
    "    new_cy = X//2\n",
    "\n",
    "    for i in range(new_img.shape[0]):\n",
    "        for j in range(new_img.shape[1]):\n",
    "            x= (i-new_cx)*np.cos(theta)+(j-new_cy)*np.sin(theta)\n",
    "            y= -(i-new_cx)*np.sin(theta)+(j-new_cy)*np.cos(theta)\n",
    "\n",
    "            x=round(x)+cy\n",
    "            y=round(y)+cx\n",
    "            if (x>=0 and y>=0 and x<im.shape[0] and  y<im.shape[1]):\n",
    "\n",
    "                new_img[i,j,:] = im[x,y,:]\n",
    "\n",
    "    cv2.imwrite('output_images/im_rotated'+'_'+'angle'+str(angle)+'.jpg', new_img)\n",
    "\n",
    "    return new_img"
   ]
  },
  {
   "cell_type": "code",
   "execution_count": 7,
   "metadata": {},
   "outputs": [
    {
     "name": "stderr",
     "output_type": "stream",
     "text": [
      "libpng warning: iCCP: known incorrect sRGB profile\n"
     ]
    }
   ],
   "source": [
    "path = 'animals.png'\n",
    "img = cv2.imread(path)\n",
    "angle = 55\n",
    "\n",
    "rotated_img = rotation_without_croping(img, angle)"
   ]
  },
  {
   "cell_type": "code",
   "execution_count": 8,
   "metadata": {},
   "outputs": [
    {
     "name": "stderr",
     "output_type": "stream",
     "text": [
      "Clipping input data to the valid range for imshow with RGB data ([0..1] for floats or [0..255] for integers).\n"
     ]
    },
    {
     "data": {
      "image/png": "[encoded data removed]",
      "text/plain": [
       "<Figure size 432x288 with 1 Axes>"
      ]
     },
     "metadata": {
      "needs_background": "light"
     },
     "output_type": "display_data"
    }
   ],
   "source": [
    "def combined_transformations(img, s_factor1, s_factor2,tx, ty, angle):\n",
    "    scaled_image = scaling_without_crop(img, s_factor1, s_factor2)\n",
    "    translated_im = translation_without_crop(scaled_image, tx, ty)\n",
    "    combined = rotation_without_croping(translated_im, angle)\n",
    "    plt.imshow(combined)\n",
    "    cv2.imwrite('output_images/combined_trans.jpg', combined)\n",
    "\n",
    "im = img\n",
    "scale_f1 = s_factor1\n",
    "scale_f2 = s_factor2\n",
    "trans_x = tx\n",
    "trans_y = ty\n",
    "angle = angle\n",
    "combined_transformations(im, scale_f1, scale_f2, trans_x, trans_y, angle)\n"
   ]
  },
  {
   "cell_type": "code",
   "execution_count": 9,
   "metadata": {},
   "outputs": [],
   "source": [
    "#task with croping"
   ]
  },
  {
   "cell_type": "code",
   "execution_count": null,
   "metadata": {},
   "outputs": [],
   "source": []
  },
  {
   "cell_type": "code",
   "execution_count": 10,
   "metadata": {},
   "outputs": [],
   "source": [
    "def scaling(a, sx, sy):\n",
    "    #a = cv2.imread(path)\n",
    "    b = np.zeros((a.shape[0], a.shape[1], a.shape[2]))\n",
    "    for x in range(a.shape[0]):\n",
    "        for y in range(a.shape[1]):\n",
    "            newx = x*sx\n",
    "            newy = y*sy\n",
    "\n",
    "            if newx<b.shape[0] and newy<b.shape[1]:\n",
    "                b[round(newx),round(newy),:] = a[x, y,:]\n",
    "    \n",
    "    #applying interpolation\n",
    "    for x in range(b.shape[0]-1):\n",
    "        for y in range(b.shape[1]-1):\n",
    "            if b[x,y].any() == 0:\n",
    "                b[x,y,:] = (b[x+1,y]+b[x-1,y]+b[x,y+1]+b[x,y-1])/4\n",
    "    \n",
    "    cv2.imwrite('output_images/im_scaled'+'_with_crop_'+str(sx)+'x'+str(sy)+'y'+'.jpg', b)  \n",
    "\n",
    "    return b          \n"
   ]
  },
  {
   "cell_type": "code",
   "execution_count": 11,
   "metadata": {},
   "outputs": [
    {
     "name": "stderr",
     "output_type": "stream",
     "text": [
      "libpng warning: iCCP: known incorrect sRGB profile\n"
     ]
    }
   ],
   "source": [
    "path = 'animals.png'\n",
    "im = cv2.imread(path)\n",
    "sx = 1/2\n",
    "sy = 2\n",
    "scaled_image = scaling(im, sx, sy)"
   ]
  },
  {
   "cell_type": "code",
   "execution_count": 12,
   "metadata": {},
   "outputs": [],
   "source": [
    "#translation without crop\n",
    "def translation(a, tx, ty):\n",
    "    #a = cv2.imread(path)\n",
    "    b = np.zeros((a.shape[0], a.shape[1], a.shape[2]))\n",
    "    for x in range(a.shape[0]-1):\n",
    "        for y in range(a.shape[1]-1):\n",
    "            newx = x+tx\n",
    "            newy = y+ty\n",
    "\n",
    "            if newx<b.shape[0] and newy<b.shape[1]:\n",
    "                b[round(newx),round(newy),:] = a[x, y,:]\n",
    "    \n",
    "    # #applying interpolation\n",
    "    # for x in range(b.shape[0]-1):\n",
    "    #     for y in range(b.shape[1]-1):\n",
    "    #         if b[x,y].any() == 0:\n",
    "    #             b[x,y,:] = (b[x+1,y]+b[x-1,y]+b[x,y+1]+b[x,y-1])/4\n",
    "    \n",
    "    cv2.imwrite('output_images/im_translated'+'_with_crop_'+str(tx)+'x'+str(ty)+'y'+'.jpg', b)  \n",
    "\n",
    "    return b          \n"
   ]
  },
  {
   "cell_type": "code",
   "execution_count": 13,
   "metadata": {},
   "outputs": [
    {
     "name": "stderr",
     "output_type": "stream",
     "text": [
      "libpng warning: iCCP: known incorrect sRGB profile\n"
     ]
    }
   ],
   "source": [
    "path = 'animals.png'\n",
    "im = cv2.imread(path)\n",
    "tx = 100\n",
    "ty = 1\n",
    "\n",
    "translated_im = translation(im, tx, ty)\n"
   ]
  },
  {
   "cell_type": "code",
   "execution_count": 14,
   "metadata": {},
   "outputs": [],
   "source": [
    "def rotation(im, angle):\n",
    "    #im = cv2.imread(path)\n",
    "\n",
    "    theta = np.radians(angle)\n",
    "\n",
    "    \n",
    "\n",
    "    new_img = (np.zeros((im.shape[0],im.shape[1],im.shape[2])))\n",
    "\n",
    "    cx = im.shape[1]//2 \n",
    "    cy = im.shape[0]//2\n",
    "\n",
    "\n",
    "    for i in range(new_img.shape[0]):\n",
    "        for j in range(new_img.shape[1]):\n",
    "            x= (i)*np.cos(theta)+(j)*np.sin(theta)\n",
    "            y= -(i)*np.sin(theta)+(j)*np.cos(theta)\n",
    "\n",
    "            x=round(x)#+cy\n",
    "            y=round(y)#+cx\n",
    "            if (x>=0 and y>=0 and x<im.shape[0] and  y<im.shape[1]):\n",
    "\n",
    "                new_img[i,j,:] = im[x,y,:]\n",
    "\n",
    "    cv2.imwrite('output_images/im_rotatedwith_crop'+'_'+'angle'+str(angle)+'.jpg', new_img)\n",
    "\n",
    "    return new_img"
   ]
  },
  {
   "cell_type": "code",
   "execution_count": 15,
   "metadata": {},
   "outputs": [
    {
     "name": "stderr",
     "output_type": "stream",
     "text": [
      "libpng warning: iCCP: known incorrect sRGB profile\n"
     ]
    }
   ],
   "source": [
    "path = 'animals.png'\n",
    "img = cv2.imread(path)\n",
    "angle = 10\n",
    "\n",
    "rotated_img = rotation(img, angle)"
   ]
  },
  {
   "cell_type": "code",
   "execution_count": 16,
   "metadata": {},
   "outputs": [],
   "source": [
    "def combined_transformations(img, sx, sy, tx, ty, angle):\n",
    "    img = rotation(img, angle)\n",
    "    scaled_image = scaling(img, sx, sy)\n",
    "    translated_im = translation(scaled_image, tx, ty)\n",
    "    #combined = rotation(translated_im, angle)\n",
    "#    plt.imshow(combined)\n",
    "    cv2.imwrite('output_images/combined_trans.jpg', translated_im)\n",
    "\n",
    "im = img\n",
    "scale_fx = sx\n",
    "scale_fy = sy\n",
    "trans_x = tx\n",
    "trans_y = ty\n",
    "angle = angle\n",
    "combined_transformations(im, scale_fx, scale_fx, trans_x, trans_y, angle)\n"
   ]
  }
 ],
 "metadata": {
  "kernelspec": {
   "display_name": "Python 3 (ipykernel)",
   "language": "python",
   "name": "python3"
  },
  "language_info": {
   "codemirror_mode": {
    "name": "ipython",
    "version": 3
   },
   "file_extension": ".py",
   "mimetype": "text/x-python",
   "name": "python",
   "nbconvert_exporter": "python",
   "pygments_lexer": "ipython3",
   "version": "3.10.4 (main, Mar 31 2022, 08:41:55) [GCC 7.5.0]"
  },
  "vscode": {
   "interpreter": {
    "hash": "3df431522bb3eb26fa5cf13902f885e721073e8cb6ff528d7d88c46eda35d935"
   }
  }
 },
 "nbformat": 4,
 "nbformat_minor": 2
}
