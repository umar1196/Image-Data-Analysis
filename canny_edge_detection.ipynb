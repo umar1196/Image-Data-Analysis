{
 "cells": [
  {
   "cell_type": "code",
   "execution_count": 24,
   "metadata": {},
   "outputs": [],
   "source": [
    "import matplotlib.pyplot as plt\n",
    "import numpy as np\n",
    "import math\n",
    "import cv2"
   ]
  },
  {
   "cell_type": "code",
   "execution_count": 28,
   "metadata": {},
   "outputs": [],
   "source": [
    "def calculate_filter_size_gradient(filter_size, sigma):\n",
    "\n",
    "    mask_half = np.round(np.sqrt(- math.log(filter_size) * 2 * sigma**2))\n",
    "    #print(mask_half)\n",
    "\n",
    "    y, x = np.meshgrid((-mask_half, mask_half+1), (-mask_half , mask_half+1))\n",
    "\n",
    "    print(type(x))\n",
    "    #print(y)\n",
    "    #print('----')\n",
    "    #print(x)\n",
    "    exponential = np.exp(- (x**2 + y**2) / 2 * sigma**2)\n",
    "    print(exponential)\n",
    "    gx = -(x / sigma**2) * exponential\n",
    "    #print(gx)\n",
    "    Gx = np.round(gx*255)\n",
    "    print(Gx)\n",
    "    print('================================')\n",
    "    gy = -(y / sigma**2) * exponential\n",
    "    #print(gy)\n",
    "    Gy = np.round(gy*255)\n",
    "    print(Gy)\n",
    "\n",
    "    return Gx, Gy"
   ]
  },
  {
   "cell_type": "code",
   "execution_count": 29,
   "metadata": {},
   "outputs": [],
   "source": [
    "def fx_fy_gradient(Gx, Gy, gray_image):\n",
    "    x_range = abs(Gx.shape[1] - gray_image.shape[1])\n",
    "    x_range\n",
    "    y_range = abs(Gy.shape[0] - gray_image.shape[0])\n",
    "    y_range\n",
    "    \n",
    "    fx = np.zeros((y_range, x_range))\n",
    "    fy = np.zeros((y_range, x_range))\n",
    "    \n",
    "    for j in range(y_range):\n",
    "        for i in range(x_range):\n",
    "            fx[j,i] = np.sum(Gx* gray_image[j:Gx.shape[0]+j, i:Gx.shape[1]+i])\n",
    "            \n",
    "            \n",
    "    for j in range(y_range):\n",
    "        for i in range(x_range):\n",
    "            fy[j,i] = np.sum(Gy* gray_image[j:Gy.shape[0]+j, i:Gy.shape[1]+i])\n",
    "            \n",
    "    return fx, fy"
   ]
  },
  {
   "cell_type": "code",
   "execution_count": 30,
   "metadata": {},
   "outputs": [],
   "source": [
    "def magnitude(fx, fy):\n",
    "    #computing the gradient magnitude\n",
    "\n",
    "    magnitude = np.sqrt(np.square(fx) + np.square(fy))\n",
    "    magnitude = (magnitude/255)\n",
    "    return magnitude"
   ]
  },
  {
   "cell_type": "code",
   "execution_count": 31,
   "metadata": {},
   "outputs": [],
   "source": [
    "def direction(fx, fy):\n",
    "    #computing the gradient direction\n",
    "    theta = np.arctan2(fy, fx)\n",
    "    print(theta)\n",
    "    angles = np.rad2deg(theta) + 180\n",
    "    print(angles)\n",
    "    \n",
    "    return angles"
   ]
  },
  {
   "cell_type": "code",
   "execution_count": 32,
   "metadata": {},
   "outputs": [],
   "source": [
    "def quantization(magnitude, angles):\n",
    "    quantized_magnitudes = np.zeros((magnitude.shape)) #creating an array equal to size of magnitude array\n",
    "\n",
    "    for i in range(magnitude.shape[0]-1):\n",
    "        for j in range(magnitude.shape[1]-1):\n",
    "            if (0 <= angles[i,j] <=22.5) or (157.5 <= angles[i,j] <=202.5) or (337.5 <= angles[i,j] <=360):\n",
    "\n",
    "                    quantized_magnitudes[i,j] = 0\n",
    "            elif (22.5 <= angles[i,j] <= 67.5) or (202.5 <= angles[i,j] <= 247.5):\n",
    "\n",
    "                    quantized_magnitudes[i,j] = 1\n",
    "\n",
    "            elif (67.5 <= angles[i,j] <= 112.5) or (247.5 <= angles[i,j] <= 292.5):\n",
    "\n",
    "                    quantized_magnitudes[i,j] = 2\n",
    "\n",
    "            elif (112.5 <= angles[i,j] <= 157.5) or (292.5 <= angles[i,j] <= 337.5):\n",
    "\n",
    "                    quantized_magnitudes[i,j] = 3\n",
    "                    \n",
    "    return quantized_magnitudes\n",
    "\n",
    "\n",
    "def colored_quantization(mat, magnitude):\n",
    "    colored_magnitudes = np.zeros((magnitude.shape[0],magnitude.shape[1],3)) #creating an array equal to size of magnitude array\n",
    "\n",
    "    for i in range(magnitude.shape[0]-1):\n",
    "        for j in range(magnitude.shape[1]-1):\n",
    "            if mat[i,j] == 0:\n",
    "                if magnitude[i,j] != 0:\n",
    "                        colored_magnitudes[i,j,0] = 100\n",
    "                else:\n",
    "                        colored_magnitudes[i,j,0] =0\n",
    "\n",
    "            if mat[i,j] == 1:\n",
    "                if magnitude[i,j] != 0:\n",
    "                        colored_magnitudes[i,j,1] = 100\n",
    "                else:\n",
    "                        colored_magnitudes[i,j,1] =0 \n",
    "\n",
    "            if mat[i,j] == 2:\n",
    "                if magnitude[i,j] != 0:\n",
    "                        colored_magnitudes[i,j,2] = 100\n",
    "                else:\n",
    "                        colored_magnitudes[i,j,2] =0\n",
    "\n",
    "            if mat[i,j] == 3:\n",
    "                if magnitude[i,j] != 0:\n",
    "                        colored_magnitudes[i,j,0] = 100\n",
    "                        colored_magnitudes[i,j,1] = 100\n",
    "                        \n",
    "                else:\n",
    "                        colored_magnitudes[i,j,0] =0\n",
    "                        colored_magnitudes[i,j,1] =0\n",
    "\n",
    "    return colored_magnitudes    "
   ]
  },
  {
   "cell_type": "code",
   "execution_count": 33,
   "metadata": {},
   "outputs": [],
   "source": [
    "def non_max_supression(magnitude, quantized_magnitudes):\n",
    "    magnitudes = np.zeros((magnitude.shape))\n",
    "\n",
    "    for i in range(magnitude.shape[0]-1):\n",
    "        for j in range(magnitude.shape[1]-1):\n",
    "            if quantized_magnitudes[i,j] == 0:\n",
    "                if (magnitude[i,j] > magnitude[i, j-1]) and (magnitude[i,j] > magnitude[i, j+1]):\n",
    "                    magnitudes[i,j] = magnitude[i,j]\n",
    "            elif quantized_magnitudes[i,j] == 1:\n",
    "                if (magnitude[i,j] > magnitude[i-1, j]) and (magnitude[i,j] > magnitude[i+1, j]):\n",
    "                    magnitudes[i,j] = magnitude[i,j]\n",
    "\n",
    "            elif quantized_magnitudes[i,j] == 2:\n",
    "                if (magnitude[i,j] > magnitude[i, j-1]) and (magnitude[i,j] > magnitude[i, j+1]):\n",
    "                    magnitudes[i,j] = magnitude[i,j]\n",
    "\n",
    "            elif quantized_magnitudes[i,j] == 3:\n",
    "                if (magnitude[i,j] > magnitude[i-1, j]) and (magnitude[i,j] > magnitude[i+1, j]):\n",
    "                    magnitudes[i,j] = magnitude[i,j]\n",
    "                    \n",
    "    return magnitudes"
   ]
  },
  {
   "cell_type": "code",
   "execution_count": 34,
   "metadata": {},
   "outputs": [
    {
     "name": "stdout",
     "output_type": "stream",
     "text": [
      "[[ 0  1  2  3]\n",
      " [ 4  5  6  7]\n",
      " [ 8  9 10 11]\n",
      " [12 13 14 15]\n",
      " [16 17 18 19]]\n",
      "-------------------------\n",
      "[[ 0  0  0  3]\n",
      " [ 0  0  6  7]\n",
      " [ 8  9 10 11]\n",
      " [12 13 14 15]\n",
      " [16 17 18 19]]\n",
      "==================\n",
      "[[ 0  0  0  3]\n",
      " [ 0  0  6  7]\n",
      " [ 8  9 10 11]\n",
      " [12 13 14 15]\n",
      " [16 17 18 19]]\n"
     ]
    }
   ],
   "source": [
    "#hysteresis thresholding\n",
    "def hysteresis_thresholding(th, tl, non_max_M):\n",
    "    for i in range(non_max_M.shape[0]-1):\n",
    "        for j in range(non_max_M.shape[1]-1):\n",
    "            if non_max_M[i,j] < tl:\n",
    "                non_max_M[i,j] = 0\n",
    "            elif non_max_M[i,j] >= th:\n",
    "                non_max_M[i,j] = non_max_M[i,j]\n",
    "                \n",
    "    return non_max_M\n",
    "\n",
    "def inbetween_values_check(M):\n",
    "        for i in range(M.shape[0]-1):\n",
    "            for j in range(M.shape[1]-1):\n",
    "                if M[i,j] > 0 and M[i,j-1] > 0 or M[i,j+1] > 0:\n",
    "                    M[i,j] = M[i,j]\n",
    "                else:\n",
    "                    M[i,j] = 0\n",
    "\n",
    "        return M\n",
    "    \n",
    "    \n",
    "a = np.array(range(20)).reshape(5,4)\n",
    "print(a)\n",
    "print('-------------------------')\n",
    "M = hysteresis_thresholding(18, 6, a)\n",
    "print(M)\n",
    "print('==================')\n",
    "\n",
    "f = inbetween_values_check(M)\n",
    "print(f)"
   ]
  },
  {
   "cell_type": "markdown",
   "metadata": {},
   "source": [
    "## Calling the functions"
   ]
  },
  {
   "cell_type": "code",
   "execution_count": 35,
   "metadata": {},
   "outputs": [
    {
     "name": "stdout",
     "output_type": "stream",
     "text": [
      "(219, 375, 3)\n",
      "(219, 375)\n"
     ]
    },
    {
     "data": {
      "text/plain": [
       "<matplotlib.image.AxesImage at 0x7f50b048ffa0>"
      ]
     },
     "execution_count": 35,
     "metadata": {},
     "output_type": "execute_result"
    },
    {
     "data": {
      "image/png": "[encoded data removed]",
      "text/plain": [
       "<Figure size 432x288 with 1 Axes>"
      ]
     },
     "metadata": {
      "needs_background": "light"
     },
     "output_type": "display_data"
    }
   ],
   "source": [
    "path = 'table.png'\n",
    "img = cv2.imread(path)\n",
    "\n",
    "print(img.shape)\n",
    "gray_image = cv2.cvtColor(img, cv2.COLOR_BGR2GRAY)\n",
    "print(gray_image.shape)\n",
    "plt.imshow(gray_image)"
   ]
  },
  {
   "cell_type": "code",
   "execution_count": 36,
   "metadata": {},
   "outputs": [
    {
     "name": "stdout",
     "output_type": "stream",
     "text": [
      "<class 'numpy.ndarray'>\n",
      "[[0.77880078 0.53526143]\n",
      " [0.53526143 0.36787944]]\n",
      "[[  794.   546.]\n",
      " [-1092.  -750.]]\n",
      "================================\n",
      "[[  794. -1092.]\n",
      " [  546.  -750.]]\n"
     ]
    }
   ],
   "source": [
    "sigma = 0.5\n",
    "size = 0.4#this one for sigma 1\n",
    "#size = 0.3#for sigma 0.5\n",
    "Gx, Gy = calculate_filter_size_gradient(0.3, sigma)"
   ]
  },
  {
   "cell_type": "code",
   "execution_count": 37,
   "metadata": {},
   "outputs": [
    {
     "data": {
      "text/plain": [
       "True"
      ]
     },
     "execution_count": 37,
     "metadata": {},
     "output_type": "execute_result"
    },
    {
     "data": {
      "image/png": "[encoded data removed]",
      "text/plain": [
       "<Figure size 432x288 with 1 Axes>"
      ]
     },
     "metadata": {
      "needs_background": "light"
     },
     "output_type": "display_data"
    }
   ],
   "source": [
    "fx, fy = fx_fy_gradient(Gx, Gy, gray_image)\n",
    "plt.imshow(fx)\n",
    "cv2.imwrite('image/'+str(path)+'_fx'+str(sigma)+'.jpg', fx)"
   ]
  },
  {
   "cell_type": "code",
   "execution_count": 38,
   "metadata": {},
   "outputs": [
    {
     "data": {
      "text/plain": [
       "True"
      ]
     },
     "execution_count": 38,
     "metadata": {},
     "output_type": "execute_result"
    },
    {
     "data": {
      "image/png": "[encoded data removed]",
      "text/plain": [
       "<Figure size 432x288 with 1 Axes>"
      ]
     },
     "metadata": {
      "needs_background": "light"
     },
     "output_type": "display_data"
    }
   ],
   "source": [
    "plt.imshow(fy)\n",
    "cv2.imwrite('image/'+str(path)+'_fy'+str(sigma)+'.jpg', fy)"
   ]
  },
  {
   "cell_type": "markdown",
   "metadata": {},
   "source": [
    "Calling the magnitude function"
   ]
  },
  {
   "cell_type": "code",
   "execution_count": 39,
   "metadata": {},
   "outputs": [
    {
     "data": {
      "text/plain": [
       "True"
      ]
     },
     "execution_count": 39,
     "metadata": {},
     "output_type": "execute_result"
    },
    {
     "data": {
      "image/png": "[encoded data removed]",
      "text/plain": [
       "<Figure size 432x288 with 1 Axes>"
      ]
     },
     "metadata": {
      "needs_background": "light"
     },
     "output_type": "display_data"
    }
   ],
   "source": [
    "magnitude = magnitude(fx, fy)\n",
    "plt.imshow(magnitude)\n",
    "cv2.imwrite('image/'+str(path)+'_magnitude_'+str(sigma)+'.jpg', magnitude)"
   ]
  },
  {
   "cell_type": "code",
   "execution_count": 40,
   "metadata": {},
   "outputs": [
    {
     "name": "stdout",
     "output_type": "stream",
     "text": [
      "[[-2.35619449 -2.35619449 -2.35619449 ... -2.35619449 -2.35619449\n",
      "  -2.35619449]\n",
      " [-2.35619449 -2.35619449 -2.35619449 ... -2.35619449 -2.35619449\n",
      "  -2.35619449]\n",
      " [-2.35619449 -2.35619449 -2.35619449 ... -2.35619449 -2.35619449\n",
      "  -2.35619449]\n",
      " ...\n",
      " [-2.35619449 -2.35619449 -2.35619449 ... -2.35619449 -2.34910008\n",
      "  -2.34919107]\n",
      " [-2.35619449 -2.35619449 -2.35619449 ... -2.3632889  -2.35619449\n",
      "  -2.34231497]\n",
      " [-2.35619449 -2.35619449 -2.35619449 ... -2.3632889  -2.35619449\n",
      "  -2.34935712]]\n",
      "[[45.         45.         45.         ... 45.         45.\n",
      "  45.        ]\n",
      " [45.         45.         45.         ... 45.         45.\n",
      "  45.        ]\n",
      " [45.         45.         45.         ... 45.         45.\n",
      "  45.        ]\n",
      " ...\n",
      " [45.         45.         45.         ... 45.         45.40647999\n",
      "  45.40126625]\n",
      " [45.         45.         45.         ... 44.59352001 45.\n",
      "  45.79523812]\n",
      " [45.         45.         45.         ... 44.59352001 45.\n",
      "  45.39175255]]\n"
     ]
    }
   ],
   "source": [
    "angles = direction(fx, fy)\n"
   ]
  },
  {
   "cell_type": "code",
   "execution_count": 41,
   "metadata": {},
   "outputs": [
    {
     "data": {
      "text/plain": [
       "True"
      ]
     },
     "execution_count": 41,
     "metadata": {},
     "output_type": "execute_result"
    },
    {
     "data": {
      "image/png": "[encoded data removed]",
      "text/plain": [
       "<Figure size 432x288 with 1 Axes>"
      ]
     },
     "metadata": {
      "needs_background": "light"
     },
     "output_type": "display_data"
    }
   ],
   "source": [
    "quantized_magnitude = quantization(magnitude, angles)\n",
    "plt.imshow(quantized_magnitude)\n",
    "\n",
    "colored = colored_quantization(quantized_magnitude, magnitude)\n",
    "cv2.imwrite('image/'+str(path)+'_quantized_'+str(sigma)+'.jpg', colored)"
   ]
  },
  {
   "cell_type": "code",
   "execution_count": 42,
   "metadata": {},
   "outputs": [
    {
     "data": {
      "text/plain": [
       "<matplotlib.image.AxesImage at 0x7f50aa6696f0>"
      ]
     },
     "execution_count": 42,
     "metadata": {},
     "output_type": "execute_result"
    },
    {
     "data": {
      "image/png": "[encoded data removed]",
      "text/plain": [
       "<Figure size 432x288 with 1 Axes>"
      ]
     },
     "metadata": {
      "needs_background": "light"
     },
     "output_type": "display_data"
    }
   ],
   "source": [
    "magnitudes = non_max_supression(magnitude, quantized_magnitude)\n",
    "plt.imshow(magnitudes)"
   ]
  },
  {
   "cell_type": "code",
   "execution_count": 43,
   "metadata": {},
   "outputs": [
    {
     "data": {
      "text/plain": [
       "<matplotlib.image.AxesImage at 0x7f50aa6d23b0>"
      ]
     },
     "execution_count": 43,
     "metadata": {},
     "output_type": "execute_result"
    },
    {
     "data": {
      "image/png": "[encoded data removed]",
      "text/plain": [
       "<Figure size 432x288 with 1 Axes>"
      ]
     },
     "metadata": {
      "needs_background": "light"
     },
     "output_type": "display_data"
    }
   ],
   "source": [
    "#th, tl = 400, 200 #for sigma 0.5\n",
    "#th, tl = 1, 0.5#for sigma 1\n",
    "th, tl = .25, 0.12\n",
    "M = hysteresis_thresholding(th, tl, magnitudes)\n",
    "plt.imshow(M)"
   ]
  },
  {
   "cell_type": "code",
   "execution_count": 44,
   "metadata": {},
   "outputs": [
    {
     "name": "stdout",
     "output_type": "stream",
     "text": [
      "[[0. 0. 0. ... 0. 0. 0.]\n",
      " [0. 0. 0. ... 0. 0. 0.]\n",
      " [0. 0. 0. ... 0. 0. 0.]\n",
      " ...\n",
      " [0. 0. 0. ... 0. 0. 0.]\n",
      " [0. 0. 0. ... 0. 0. 0.]\n",
      " [0. 0. 0. ... 0. 0. 0.]]\n"
     ]
    }
   ],
   "source": [
    "print(M)"
   ]
  },
  {
   "cell_type": "code",
   "execution_count": 45,
   "metadata": {},
   "outputs": [
    {
     "data": {
      "text/plain": [
       "True"
      ]
     },
     "execution_count": 45,
     "metadata": {},
     "output_type": "execute_result"
    },
    {
     "data": {
      "image/png": "[encoded data removed]",
      "text/plain": [
       "<Figure size 432x288 with 1 Axes>"
      ]
     },
     "metadata": {
      "needs_background": "light"
     },
     "output_type": "display_data"
    }
   ],
   "source": [
    "f = inbetween_values_check(M)\n",
    "plt.imshow(f)\n",
    "cv2.imwrite('image/'+str(path)+'_hysteresis_Th'+str(th)+'_Tl'+str(tl)+'_'+str(sigma)+'.jpg', f)"
   ]
  },
  {
   "cell_type": "code",
   "execution_count": 46,
   "metadata": {},
   "outputs": [
    {
     "data": {
      "text/plain": [
       "array([[0., 0., 0., ..., 0., 0., 0.],\n",
       "       [0., 0., 0., ..., 0., 0., 0.],\n",
       "       [0., 0., 0., ..., 0., 0., 0.],\n",
       "       ...,\n",
       "       [0., 0., 0., ..., 0., 0., 0.],\n",
       "       [0., 0., 0., ..., 0., 0., 0.],\n",
       "       [0., 0., 0., ..., 0., 0., 0.]])"
      ]
     },
     "execution_count": 46,
     "metadata": {},
     "output_type": "execute_result"
    }
   ],
   "source": [
    "f"
   ]
  },
  {
   "cell_type": "code",
   "execution_count": null,
   "metadata": {},
   "outputs": [],
   "source": []
  }
 ],
 "metadata": {
  "kernelspec": {
   "display_name": "Python 3 (ipykernel)",
   "language": "python",
   "name": "python3"
  },
  "language_info": {
   "codemirror_mode": {
    "name": "ipython",
    "version": 3
   },
   "file_extension": ".py",
   "mimetype": "text/x-python",
   "name": "python",
   "nbconvert_exporter": "python",
   "pygments_lexer": "ipython3",
   "version": "3.10.4"
  },
  "vscode": {
   "interpreter": {
    "hash": "3df431522bb3eb26fa5cf13902f885e721073e8cb6ff528d7d88c46eda35d935"
   }
  }
 },
 "nbformat": 4,
 "nbformat_minor": 2
}
